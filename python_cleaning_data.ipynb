{
 "cells": [
  {
   "cell_type": "code",
   "execution_count": 1,
   "id": "c2c8b3f1",
   "metadata": {},
   "outputs": [],
   "source": [
    "import pandas as pd "
   ]
  },
  {
   "cell_type": "code",
   "execution_count": 3,
   "id": "82d49727",
   "metadata": {},
   "outputs": [],
   "source": [
    "#reading features file :\n",
    "feature=pd.read_csv(\"UCI HAR Dataset/features.txt\",sep=\"\\s+\",header=None)\n",
    "feature_name=feature[1].tolist()\n",
    "\n",
    "#raeding train test files:\n",
    "train_x=pd.read_csv(\"UCI HAR Dataset/train/X_train.txt\",sep=\"\\s+\",header=None)\n",
    "train_y=pd.read_csv(\"UCI HAR Dataset/train/Y_train.txt\",sep=\"\\s+\",header=None)\n",
    "train_subject=pd.read_csv(\"UCI HAR Dataset/train/subject_train.txt\")"
   ]
  },
  {
   "cell_type": "code",
   "execution_count": 4,
   "id": "22d104ea",
   "metadata": {},
   "outputs": [],
   "source": [
    "#the name of columnes :\n",
    "train_x.columns=feature_name\n",
    "train_y.columns=['Activty']\n",
    "train_subject.columns=['Subject']\n",
    "\n",
    "#cmobine the data in one file :\n",
    "train_data=pd.concat([train_subject,train_x,train_y],axis=1)"
   ]
  },
  {
   "cell_type": "code",
   "execution_count": 6,
   "id": "cee72a19",
   "metadata": {},
   "outputs": [],
   "source": [
    "#reading test file :\n",
    "test_x=pd.read_csv(\"UCI HAR Dataset/test/X_test.txt\",sep=\"\\s+\",header=None)\n",
    "test_y=pd.read_csv(\"UCI HAR Dataset/test/Y_test.txt\",sep=\"\\s+\",header=None)\n",
    "test_subject=pd.read_csv(\"UCI HAR Dataset/test/subject_test.txt\")\n",
    "\n",
    "#the name of the column :\n",
    "test_x.columns=feature_name\n",
    "test_y.columns=['Activty']\n",
    "test_subject.columns=['Subject']\n",
    "\n",
    "#cmobine the data in one file :\n",
    "test_data=pd.concat([test_subject,test_x,test_y],axis=1)"
   ]
  },
  {
   "cell_type": "code",
   "execution_count": 8,
   "id": "18fcaecf",
   "metadata": {},
   "outputs": [],
   "source": [
    "# Combine train and test\n",
    "full_data = pd.concat([train_data, test_data],ignore_index=True ,axis=0)"
   ]
  },
  {
   "cell_type": "code",
   "execution_count": null,
   "id": "547d27d1",
   "metadata": {},
   "outputs": [],
   "source": [
    "# reading Activty File :\n",
    "activity_labels = pd.read_csv(\"UCI HAR Dataset/activity_labels.txt\", sep=\"\\s+\", header=None, names=['ID', 'ActivityName'])\n",
    "\n",
    "# creating a dict:\n",
    "activity_map = dict(zip(activity_labels['ID'], activity_labels['ActivityName']))\n",
    "\n",
    "# using funcation for replacing :\n",
    "full_data['Activty'] = full_data['Activty'].map(activity_map)\n"
   ]
  },
  {
   "cell_type": "code",
   "execution_count": 20,
   "id": "067f148b",
   "metadata": {},
   "outputs": [],
   "source": [
    "#choosing the mean() and std() column:\n",
    "selected_name=[name for name in feature_name if \"mean()\" in name or \"std()\" in name]\n",
    "\n",
    "#svaing the column:\n",
    "selected_cloumn=[\"Subject\"]+selected_name+[\"Activty\"]\n",
    "\n",
    "#crating a tidy data:\n",
    "tidy_data=full_data[selected_cloumn]"
   ]
  },
  {
   "cell_type": "code",
   "execution_count": 21,
   "id": "307fb69f",
   "metadata": {},
   "outputs": [],
   "source": [
    "#colsecting mean() by using grobedby():\n",
    "final_data=tidy_data.groupby(['Subject','Activty']).mean().reset_index()"
   ]
  },
  {
   "cell_type": "code",
   "execution_count": null,
   "id": "36a6dbfb",
   "metadata": {},
   "outputs": [],
   "source": [
    "# Tidy\n",
    "final_data.to_csv(\"tidy_dataset.txt\", index=False)\n"
   ]
  }
 ],
 "metadata": {
  "kernelspec": {
   "display_name": "Python 3",
   "language": "python",
   "name": "python3"
  },
  "language_info": {
   "codemirror_mode": {
    "name": "ipython",
    "version": 3
   },
   "file_extension": ".py",
   "mimetype": "text/x-python",
   "name": "python",
   "nbconvert_exporter": "python",
   "pygments_lexer": "ipython3",
   "version": "3.10.0"
  }
 },
 "nbformat": 4,
 "nbformat_minor": 5
}
